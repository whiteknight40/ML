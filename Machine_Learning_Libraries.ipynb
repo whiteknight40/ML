{
  "cells": [
    {
      "cell_type": "markdown",
      "metadata": {
        "id": "view-in-github",
        "colab_type": "text"
      },
      "source": [
        "<a href=\"https://colab.research.google.com/github/whiteknight40/ML/blob/main/Machine_Learning_Libraries.ipynb\" target=\"_parent\"><img src=\"https://colab.research.google.com/assets/colab-badge.svg\" alt=\"Open In Colab\"/></a>"
      ]
    },
    {
      "cell_type": "markdown",
      "source": [
        "# Linear Regression"
      ],
      "metadata": {
        "id": "ZKSiKKcprapT"
      }
    },
    {
      "cell_type": "code",
      "source": [
        "from google.colab import files\n",
        "uploaded = files.upload()"
      ],
      "metadata": {
        "colab": {
          "base_uri": "https://localhost:8080/",
          "height": 38
        },
        "id": "eWBp8aLbMOd5",
        "outputId": "6584a81f-ef9f-4ced-ba12-fa8fb7c1addd"
      },
      "execution_count": 1,
      "outputs": [
        {
          "output_type": "display_data",
          "data": {
            "text/plain": [
              "<IPython.core.display.HTML object>"
            ],
            "text/html": [
              "\n",
              "     <input type=\"file\" id=\"files-2311af5b-969f-4e10-8188-aff4b741d0fb\" name=\"files[]\" multiple disabled\n",
              "        style=\"border:none\" />\n",
              "     <output id=\"result-2311af5b-969f-4e10-8188-aff4b741d0fb\">\n",
              "      Upload widget is only available when the cell has been executed in the\n",
              "      current browser session. Please rerun this cell to enable.\n",
              "      </output>\n",
              "      <script>// Copyright 2017 Google LLC\n",
              "//\n",
              "// Licensed under the Apache License, Version 2.0 (the \"License\");\n",
              "// you may not use this file except in compliance with the License.\n",
              "// You may obtain a copy of the License at\n",
              "//\n",
              "//      http://www.apache.org/licenses/LICENSE-2.0\n",
              "//\n",
              "// Unless required by applicable law or agreed to in writing, software\n",
              "// distributed under the License is distributed on an \"AS IS\" BASIS,\n",
              "// WITHOUT WARRANTIES OR CONDITIONS OF ANY KIND, either express or implied.\n",
              "// See the License for the specific language governing permissions and\n",
              "// limitations under the License.\n",
              "\n",
              "/**\n",
              " * @fileoverview Helpers for google.colab Python module.\n",
              " */\n",
              "(function(scope) {\n",
              "function span(text, styleAttributes = {}) {\n",
              "  const element = document.createElement('span');\n",
              "  element.textContent = text;\n",
              "  for (const key of Object.keys(styleAttributes)) {\n",
              "    element.style[key] = styleAttributes[key];\n",
              "  }\n",
              "  return element;\n",
              "}\n",
              "\n",
              "// Max number of bytes which will be uploaded at a time.\n",
              "const MAX_PAYLOAD_SIZE = 100 * 1024;\n",
              "\n",
              "function _uploadFiles(inputId, outputId) {\n",
              "  const steps = uploadFilesStep(inputId, outputId);\n",
              "  const outputElement = document.getElementById(outputId);\n",
              "  // Cache steps on the outputElement to make it available for the next call\n",
              "  // to uploadFilesContinue from Python.\n",
              "  outputElement.steps = steps;\n",
              "\n",
              "  return _uploadFilesContinue(outputId);\n",
              "}\n",
              "\n",
              "// This is roughly an async generator (not supported in the browser yet),\n",
              "// where there are multiple asynchronous steps and the Python side is going\n",
              "// to poll for completion of each step.\n",
              "// This uses a Promise to block the python side on completion of each step,\n",
              "// then passes the result of the previous step as the input to the next step.\n",
              "function _uploadFilesContinue(outputId) {\n",
              "  const outputElement = document.getElementById(outputId);\n",
              "  const steps = outputElement.steps;\n",
              "\n",
              "  const next = steps.next(outputElement.lastPromiseValue);\n",
              "  return Promise.resolve(next.value.promise).then((value) => {\n",
              "    // Cache the last promise value to make it available to the next\n",
              "    // step of the generator.\n",
              "    outputElement.lastPromiseValue = value;\n",
              "    return next.value.response;\n",
              "  });\n",
              "}\n",
              "\n",
              "/**\n",
              " * Generator function which is called between each async step of the upload\n",
              " * process.\n",
              " * @param {string} inputId Element ID of the input file picker element.\n",
              " * @param {string} outputId Element ID of the output display.\n",
              " * @return {!Iterable<!Object>} Iterable of next steps.\n",
              " */\n",
              "function* uploadFilesStep(inputId, outputId) {\n",
              "  const inputElement = document.getElementById(inputId);\n",
              "  inputElement.disabled = false;\n",
              "\n",
              "  const outputElement = document.getElementById(outputId);\n",
              "  outputElement.innerHTML = '';\n",
              "\n",
              "  const pickedPromise = new Promise((resolve) => {\n",
              "    inputElement.addEventListener('change', (e) => {\n",
              "      resolve(e.target.files);\n",
              "    });\n",
              "  });\n",
              "\n",
              "  const cancel = document.createElement('button');\n",
              "  inputElement.parentElement.appendChild(cancel);\n",
              "  cancel.textContent = 'Cancel upload';\n",
              "  const cancelPromise = new Promise((resolve) => {\n",
              "    cancel.onclick = () => {\n",
              "      resolve(null);\n",
              "    };\n",
              "  });\n",
              "\n",
              "  // Wait for the user to pick the files.\n",
              "  const files = yield {\n",
              "    promise: Promise.race([pickedPromise, cancelPromise]),\n",
              "    response: {\n",
              "      action: 'starting',\n",
              "    }\n",
              "  };\n",
              "\n",
              "  cancel.remove();\n",
              "\n",
              "  // Disable the input element since further picks are not allowed.\n",
              "  inputElement.disabled = true;\n",
              "\n",
              "  if (!files) {\n",
              "    return {\n",
              "      response: {\n",
              "        action: 'complete',\n",
              "      }\n",
              "    };\n",
              "  }\n",
              "\n",
              "  for (const file of files) {\n",
              "    const li = document.createElement('li');\n",
              "    li.append(span(file.name, {fontWeight: 'bold'}));\n",
              "    li.append(span(\n",
              "        `(${file.type || 'n/a'}) - ${file.size} bytes, ` +\n",
              "        `last modified: ${\n",
              "            file.lastModifiedDate ? file.lastModifiedDate.toLocaleDateString() :\n",
              "                                    'n/a'} - `));\n",
              "    const percent = span('0% done');\n",
              "    li.appendChild(percent);\n",
              "\n",
              "    outputElement.appendChild(li);\n",
              "\n",
              "    const fileDataPromise = new Promise((resolve) => {\n",
              "      const reader = new FileReader();\n",
              "      reader.onload = (e) => {\n",
              "        resolve(e.target.result);\n",
              "      };\n",
              "      reader.readAsArrayBuffer(file);\n",
              "    });\n",
              "    // Wait for the data to be ready.\n",
              "    let fileData = yield {\n",
              "      promise: fileDataPromise,\n",
              "      response: {\n",
              "        action: 'continue',\n",
              "      }\n",
              "    };\n",
              "\n",
              "    // Use a chunked sending to avoid message size limits. See b/62115660.\n",
              "    let position = 0;\n",
              "    do {\n",
              "      const length = Math.min(fileData.byteLength - position, MAX_PAYLOAD_SIZE);\n",
              "      const chunk = new Uint8Array(fileData, position, length);\n",
              "      position += length;\n",
              "\n",
              "      const base64 = btoa(String.fromCharCode.apply(null, chunk));\n",
              "      yield {\n",
              "        response: {\n",
              "          action: 'append',\n",
              "          file: file.name,\n",
              "          data: base64,\n",
              "        },\n",
              "      };\n",
              "\n",
              "      let percentDone = fileData.byteLength === 0 ?\n",
              "          100 :\n",
              "          Math.round((position / fileData.byteLength) * 100);\n",
              "      percent.textContent = `${percentDone}% done`;\n",
              "\n",
              "    } while (position < fileData.byteLength);\n",
              "  }\n",
              "\n",
              "  // All done.\n",
              "  yield {\n",
              "    response: {\n",
              "      action: 'complete',\n",
              "    }\n",
              "  };\n",
              "}\n",
              "\n",
              "scope.google = scope.google || {};\n",
              "scope.google.colab = scope.google.colab || {};\n",
              "scope.google.colab._files = {\n",
              "  _uploadFiles,\n",
              "  _uploadFilesContinue,\n",
              "};\n",
              "})(self);\n",
              "</script> "
            ]
          },
          "metadata": {}
        }
      ]
    },
    {
      "cell_type": "code",
      "source": [
        "import pandas as pd\n",
        "file = pd.read_csv('linear_regression_train.csv')\n",
        "print(file.shape)"
      ],
      "metadata": {
        "colab": {
          "base_uri": "https://localhost:8080/"
        },
        "id": "9OUdIYEgMUzw",
        "outputId": "a3a41dee-517e-426f-e9cc-720b96086cd4"
      },
      "execution_count": null,
      "outputs": [
        {
          "output_type": "stream",
          "name": "stdout",
          "text": [
            "(48000, 27)\n"
          ]
        }
      ]
    },
    {
      "cell_type": "code",
      "source": [
        "n_sets,n_features=file.shape\n",
        "n_features=n_features-1\n",
        "x_train=file.iloc[:,1:n_features]\n",
        "x_train=x_train.values\n",
        "y_train=file.iloc[:,n_features]\n",
        "y_train=y_train.values\n",
        "print(x_train.shape)\n",
        "print(y_train.shape)"
      ],
      "metadata": {
        "id": "gSf7MzpVQgXc",
        "outputId": "fd60ee52-46b6-492c-cc44-5eb12205a2fe",
        "colab": {
          "base_uri": "https://localhost:8080/"
        }
      },
      "execution_count": null,
      "outputs": [
        {
          "output_type": "stream",
          "name": "stdout",
          "text": [
            "(48000, 25)\n",
            "(48000,)\n"
          ]
        }
      ]
    },
    {
      "cell_type": "code",
      "source": [
        "import numpy as np\n",
        "import matplotlib.pyplot as plt\n",
        "import math,copy\n",
        "np.set_printoptions(precision=2)\n"
      ],
      "metadata": {
        "id": "7CfS4K-HZQQb"
      },
      "execution_count": null,
      "outputs": []
    },
    {
      "cell_type": "code",
      "source": [
        "def train_test_split(X,y,test_size=0.2,random_state=None):\n",
        "  if random_state is not None:\n",
        "    np.random.seed(random_state)\n",
        "  indices=np.arange(len(X))\n",
        "  np.random.shuffle(indices)\n",
        "  split_idx=int(len(X)*(1-test_size))\n",
        "  train_indices=indices[:split_idx]\n",
        "  test_indices=indices[split_idx:]\n",
        "  X_train, X_test=X[train_indices],X[test_indices]\n",
        "  y_train, y_test=y[train_indices],y[test_indices]\n",
        "  return X_train,X_test,y_train, y_test"
      ],
      "metadata": {
        "id": "dwGO1zGLLig7"
      },
      "execution_count": null,
      "outputs": []
    },
    {
      "cell_type": "code",
      "source": [
        "_,n=X_train.shape\n",
        "b_init=0\n",
        "w_init=np.zeros(n)"
      ],
      "metadata": {
        "id": "x5QBH1zVaCTD"
      },
      "execution_count": null,
      "outputs": []
    },
    {
      "cell_type": "code",
      "source": [
        "def cost(x,y,w,b):\n",
        "  m,_=x.shape\n",
        "  J=0.\n",
        "  J=np.sum((np.dot(x,w)+b-y)**2)\n",
        "  return J/(2*m)"
      ],
      "metadata": {
        "id": "pgh9l5N3cmqA"
      },
      "execution_count": null,
      "outputs": []
    },
    {
      "cell_type": "code",
      "source": [
        "def compute_gradient(x,y,w,b):\n",
        "  m,n=x.shape\n",
        "  dj_dw=np.zeros((n,))\n",
        "  dj_db=0.\n",
        "  dj_dw=np.dot(x.T,(np.dot(x,w)+b-y))\n",
        "  dj_db=np.sum(np.dot(x,w)+b-y)\n",
        "  dj_dw=dj_dw/m\n",
        "  dj_db=dj_db/m\n",
        "  return dj_dw,dj_db\n"
      ],
      "metadata": {
        "id": "VqH2MWrPdfMH"
      },
      "execution_count": null,
      "outputs": []
    },
    {
      "cell_type": "code",
      "source": [
        "def gradient_descent(x,y,w_init,b_init,alpha,n_iterations,batch_size):\n",
        "  J_history=[]\n",
        "  w=w_init.copy()\n",
        "  b=b_init\n",
        "  m,n=x.shape\n",
        "  for i in range (n_iterations):\n",
        "    for batch_start in range(0, m, batch_size):\n",
        "        batch_end = batch_start + batch_size\n",
        "        x_batch = x[batch_start:batch_end]\n",
        "        y_batch = y[batch_start:batch_end]\n",
        "        dj_dw,dj_db=compute_gradient(x_batch,y_batch,w,b)\n",
        "        w=w-alpha*dj_dw\n",
        "        b=b-alpha*dj_db\n",
        "    J_history.append(cost(x,y,w,b))\n",
        "    if(i%math.ceil(n_iterations/10)==0):\n",
        "\n",
        "      print(f\"Iteration {i:4d}: Cost: {J_history[-1]:8.2f} \")\n",
        "  return w,b,J_history\n"
      ],
      "metadata": {
        "id": "y0bMg-Ane__F"
      },
      "execution_count": null,
      "outputs": []
    },
    {
      "cell_type": "code",
      "source": [
        "def compute_mean_squared_error(y_true, y_pred):\n",
        "    mse = (sum((y_true - y_pred) ** 2 )) / n\n",
        "    return mse"
      ],
      "metadata": {
        "id": "-poKFCoJNdia"
      },
      "execution_count": null,
      "outputs": []
    },
    {
      "cell_type": "code",
      "source": [
        "X_train,X_test, y_train, y_test=train_test_split(x_train,y_train,test_size=0.2,random_state=42)\n",
        "n_iter=1000\n",
        "alpha=5.0e-8\n",
        "w_final,b_final,J_hist=gradient_descent(X_train,y_train,w_init,b_init,alpha,n_iter,100)\n",
        "print(f\"b,w found by gradient descent: {b_final:0.2f},{w_final} \")\n",
        "y_pred=np.dot(w_final,X_test)+b_final\n",
        "mse=compute_mean_squared_error(y_test,y_pred)\n",
        "print(f\"Mean Squared error finally: {mse}\")\n",
        "plt.plot(J_hist)\n",
        "plt.xlabel(\"Iteration\")\n",
        "plt.ylabel(\"Cost\")\n",
        "plt.title(\"Cost over iterations\")\n",
        "plt.show()"
      ],
      "metadata": {
        "id": "Hh5jZLMXlEfa",
        "outputId": "e5df3cee-a1ac-45ee-90c2-496f33d9bf7a",
        "colab": {
          "base_uri": "https://localhost:8080/",
          "height": 718
        }
      },
      "execution_count": null,
      "outputs": [
        {
          "output_type": "stream",
          "name": "stdout",
          "text": [
            "Iteration    0: Cost: 2356279.34 \n",
            "Iteration  100: Cost: 478990.50 \n",
            "Iteration  200: Cost: 223138.58 \n",
            "Iteration  300: Cost: 142117.68 \n",
            "Iteration  400: Cost: 113919.38 \n",
            "Iteration  500: Cost: 103488.07 \n",
            "Iteration  600: Cost: 99385.56 \n",
            "Iteration  700: Cost: 97658.11 \n",
            "Iteration  800: Cost: 96873.38 \n",
            "Iteration  900: Cost: 96487.16 \n",
            "b,w found by gradient descent: 0.48,[ 12.97   6.35  12.3   18.28  -1.74  47.24  11.96  -8.9   15.34   7.13\n",
            "  -0.21  -0.49  23.81  58.91   1.81  26.25   0.41  13.53  30.38  43.97\n",
            "   1.91  -0.33 -25.37  12.07   0.13] \n"
          ]
        },
        {
          "output_type": "display_data",
          "data": {
            "text/plain": [
              "<Figure size 640x480 with 1 Axes>"
            ],
            "image/png": "[encoded data removed]"
          },
          "metadata": {}
        }
      ]
    },
    {
      "cell_type": "markdown",
      "source": [
        "# Polynomial Regression"
      ],
      "metadata": {
        "id": "V7VXP8K_qFyE"
      }
    },
    {
      "cell_type": "code",
      "source": [
        "from google.colab import files\n",
        "uploaded = files.upload()"
      ],
      "metadata": {
        "outputId": "eb30814b-a82f-4eff-b6bb-eb171a2eb9b7",
        "colab": {
          "base_uri": "https://localhost:8080/",
          "height": 73
        },
        "id": "3H6kkq-lqhOS"
      },
      "execution_count": null,
      "outputs": [
        {
          "output_type": "display_data",
          "data": {
            "text/plain": [
              "<IPython.core.display.HTML object>"
            ],
            "text/html": [
              "\n",
              "     <input type=\"file\" id=\"files-7ae82702-bc20-4463-9755-befad7e790b4\" name=\"files[]\" multiple disabled\n",
              "        style=\"border:none\" />\n",
              "     <output id=\"result-7ae82702-bc20-4463-9755-befad7e790b4\">\n",
              "      Upload widget is only available when the cell has been executed in the\n",
              "      current browser session. Please rerun this cell to enable.\n",
              "      </output>\n",
              "      <script>// Copyright 2017 Google LLC\n",
              "//\n",
              "// Licensed under the Apache License, Version 2.0 (the \"License\");\n",
              "// you may not use this file except in compliance with the License.\n",
              "// You may obtain a copy of the License at\n",
              "//\n",
              "//      http://www.apache.org/licenses/LICENSE-2.0\n",
              "//\n",
              "// Unless required by applicable law or agreed to in writing, software\n",
              "// distributed under the License is distributed on an \"AS IS\" BASIS,\n",
              "// WITHOUT WARRANTIES OR CONDITIONS OF ANY KIND, either express or implied.\n",
              "// See the License for the specific language governing permissions and\n",
              "// limitations under the License.\n",
              "\n",
              "/**\n",
              " * @fileoverview Helpers for google.colab Python module.\n",
              " */\n",
              "(function(scope) {\n",
              "function span(text, styleAttributes = {}) {\n",
              "  const element = document.createElement('span');\n",
              "  element.textContent = text;\n",
              "  for (const key of Object.keys(styleAttributes)) {\n",
              "    element.style[key] = styleAttributes[key];\n",
              "  }\n",
              "  return element;\n",
              "}\n",
              "\n",
              "// Max number of bytes which will be uploaded at a time.\n",
              "const MAX_PAYLOAD_SIZE = 100 * 1024;\n",
              "\n",
              "function _uploadFiles(inputId, outputId) {\n",
              "  const steps = uploadFilesStep(inputId, outputId);\n",
              "  const outputElement = document.getElementById(outputId);\n",
              "  // Cache steps on the outputElement to make it available for the next call\n",
              "  // to uploadFilesContinue from Python.\n",
              "  outputElement.steps = steps;\n",
              "\n",
              "  return _uploadFilesContinue(outputId);\n",
              "}\n",
              "\n",
              "// This is roughly an async generator (not supported in the browser yet),\n",
              "// where there are multiple asynchronous steps and the Python side is going\n",
              "// to poll for completion of each step.\n",
              "// This uses a Promise to block the python side on completion of each step,\n",
              "// then passes the result of the previous step as the input to the next step.\n",
              "function _uploadFilesContinue(outputId) {\n",
              "  const outputElement = document.getElementById(outputId);\n",
              "  const steps = outputElement.steps;\n",
              "\n",
              "  const next = steps.next(outputElement.lastPromiseValue);\n",
              "  return Promise.resolve(next.value.promise).then((value) => {\n",
              "    // Cache the last promise value to make it available to the next\n",
              "    // step of the generator.\n",
              "    outputElement.lastPromiseValue = value;\n",
              "    return next.value.response;\n",
              "  });\n",
              "}\n",
              "\n",
              "/**\n",
              " * Generator function which is called between each async step of the upload\n",
              " * process.\n",
              " * @param {string} inputId Element ID of the input file picker element.\n",
              " * @param {string} outputId Element ID of the output display.\n",
              " * @return {!Iterable<!Object>} Iterable of next steps.\n",
              " */\n",
              "function* uploadFilesStep(inputId, outputId) {\n",
              "  const inputElement = document.getElementById(inputId);\n",
              "  inputElement.disabled = false;\n",
              "\n",
              "  const outputElement = document.getElementById(outputId);\n",
              "  outputElement.innerHTML = '';\n",
              "\n",
              "  const pickedPromise = new Promise((resolve) => {\n",
              "    inputElement.addEventListener('change', (e) => {\n",
              "      resolve(e.target.files);\n",
              "    });\n",
              "  });\n",
              "\n",
              "  const cancel = document.createElement('button');\n",
              "  inputElement.parentElement.appendChild(cancel);\n",
              "  cancel.textContent = 'Cancel upload';\n",
              "  const cancelPromise = new Promise((resolve) => {\n",
              "    cancel.onclick = () => {\n",
              "      resolve(null);\n",
              "    };\n",
              "  });\n",
              "\n",
              "  // Wait for the user to pick the files.\n",
              "  const files = yield {\n",
              "    promise: Promise.race([pickedPromise, cancelPromise]),\n",
              "    response: {\n",
              "      action: 'starting',\n",
              "    }\n",
              "  };\n",
              "\n",
              "  cancel.remove();\n",
              "\n",
              "  // Disable the input element since further picks are not allowed.\n",
              "  inputElement.disabled = true;\n",
              "\n",
              "  if (!files) {\n",
              "    return {\n",
              "      response: {\n",
              "        action: 'complete',\n",
              "      }\n",
              "    };\n",
              "  }\n",
              "\n",
              "  for (const file of files) {\n",
              "    const li = document.createElement('li');\n",
              "    li.append(span(file.name, {fontWeight: 'bold'}));\n",
              "    li.append(span(\n",
              "        `(${file.type || 'n/a'}) - ${file.size} bytes, ` +\n",
              "        `last modified: ${\n",
              "            file.lastModifiedDate ? file.lastModifiedDate.toLocaleDateString() :\n",
              "                                    'n/a'} - `));\n",
              "    const percent = span('0% done');\n",
              "    li.appendChild(percent);\n",
              "\n",
              "    outputElement.appendChild(li);\n",
              "\n",
              "    const fileDataPromise = new Promise((resolve) => {\n",
              "      const reader = new FileReader();\n",
              "      reader.onload = (e) => {\n",
              "        resolve(e.target.result);\n",
              "      };\n",
              "      reader.readAsArrayBuffer(file);\n",
              "    });\n",
              "    // Wait for the data to be ready.\n",
              "    let fileData = yield {\n",
              "      promise: fileDataPromise,\n",
              "      response: {\n",
              "        action: 'continue',\n",
              "      }\n",
              "    };\n",
              "\n",
              "    // Use a chunked sending to avoid message size limits. See b/62115660.\n",
              "    let position = 0;\n",
              "    do {\n",
              "      const length = Math.min(fileData.byteLength - position, MAX_PAYLOAD_SIZE);\n",
              "      const chunk = new Uint8Array(fileData, position, length);\n",
              "      position += length;\n",
              "\n",
              "      const base64 = btoa(String.fromCharCode.apply(null, chunk));\n",
              "      yield {\n",
              "        response: {\n",
              "          action: 'append',\n",
              "          file: file.name,\n",
              "          data: base64,\n",
              "        },\n",
              "      };\n",
              "\n",
              "      let percentDone = fileData.byteLength === 0 ?\n",
              "          100 :\n",
              "          Math.round((position / fileData.byteLength) * 100);\n",
              "      percent.textContent = `${percentDone}% done`;\n",
              "\n",
              "    } while (position < fileData.byteLength);\n",
              "  }\n",
              "\n",
              "  // All done.\n",
              "  yield {\n",
              "    response: {\n",
              "      action: 'complete',\n",
              "    }\n",
              "  };\n",
              "}\n",
              "\n",
              "scope.google = scope.google || {};\n",
              "scope.google.colab = scope.google.colab || {};\n",
              "scope.google.colab._files = {\n",
              "  _uploadFiles,\n",
              "  _uploadFilesContinue,\n",
              "};\n",
              "})(self);\n",
              "</script> "
            ]
          },
          "metadata": {}
        },
        {
          "output_type": "stream",
          "name": "stdout",
          "text": [
            "Saving polynomial_regression_train.csv to polynomial_regression_train.csv\n"
          ]
        }
      ]
    },
    {
      "cell_type": "code",
      "source": [
        "import pandas as pd\n",
        "file = pd.read_csv('polynomial_regression_train.csv')\n",
        "print(file.shape)"
      ],
      "metadata": {
        "outputId": "e0e34dfc-7ba5-49e3-a7e1-85ba8a523bed",
        "colab": {
          "base_uri": "https://localhost:8080/"
        },
        "id": "VNvynZi4rt-K"
      },
      "execution_count": null,
      "outputs": [
        {
          "output_type": "stream",
          "name": "stdout",
          "text": [
            "(48000, 7)\n"
          ]
        }
      ]
    },
    {
      "cell_type": "code",
      "source": [
        "n_sets,n_features=file.shape\n",
        "n_features=n_features-1\n",
        "x_train=file.iloc[:,1:n_features]\n",
        "x_train=x_train.values\n",
        "y_train=file.iloc[:,n_features]\n",
        "y_train=y_train.values\n",
        "print(x_train.shape)\n",
        "print(y_train.shape)"
      ],
      "metadata": {
        "outputId": "a268f62d-16ac-420e-8eb0-704bf4a1bd7b",
        "colab": {
          "base_uri": "https://localhost:8080/"
        },
        "id": "8Mw3X1MNr_1x"
      },
      "execution_count": null,
      "outputs": [
        {
          "output_type": "stream",
          "name": "stdout",
          "text": [
            "(48000, 5)\n",
            "(48000,)\n"
          ]
        }
      ]
    },
    {
      "cell_type": "code",
      "source": [
        "import numpy as np\n",
        "import pandas as pd"
      ],
      "metadata": {
        "id": "n-TeUOfagwk1"
      },
      "execution_count": null,
      "outputs": []
    },
    {
      "cell_type": "code",
      "source": [
        "def generate_polynomial_features(X, degree):\n",
        "    m, n = X.shape\n",
        "    poly_features = X.copy()\n",
        "    for d in range(2, degree + 1):\n",
        "        for i in range(n):\n",
        "            for j in range(i, n):\n",
        "                if d == 2:\n",
        "                    poly_features = np.hstack((poly_features, (X[:, i] * X[:, j]).reshape(-1, 1)))\n",
        "                else:\n",
        "                    poly_features = np.hstack((poly_features, (poly_features[:, i] * X[:, j]).reshape(-1, 1)))\n",
        "    return poly_features"
      ],
      "metadata": {
        "id": "40Cc4fEfPKyx"
      },
      "execution_count": null,
      "outputs": []
    },
    {
      "cell_type": "code",
      "source": [
        "def cost(X, y, w, b):\n",
        "    m = X.shape[0]\n",
        "    predictions = np.dot(X, w) + b\n",
        "    errors = predictions - y\n",
        "    J = np.sum(errors ** 2) / (2 * m)\n",
        "    return J"
      ],
      "metadata": {
        "id": "WJxrueV8PVZT"
      },
      "execution_count": null,
      "outputs": []
    },
    {
      "cell_type": "code",
      "source": [
        "def compute_gradient(X, y, w, b):\n",
        "    m = X.shape[0]\n",
        "    predictions = np.dot(X, w) + b\n",
        "    errors = predictions - y\n",
        "    dj_dw = np.dot(X.T, errors) / m\n",
        "    dj_db = np.sum(errors) / m\n",
        "    return dj_dw, dj_db\n"
      ],
      "metadata": {
        "id": "iT1kMilGPwRa"
      },
      "execution_count": null,
      "outputs": []
    },
    {
      "cell_type": "code",
      "source": [
        "def gradient_descent(X, y, w_init, b_init, alpha, batch_size, n_iterations):\n",
        "    m, n = X.shape\n",
        "    w = w_init.copy()\n",
        "    b = b_init\n",
        "    J_history = []\n",
        "    for iteration in range(n_iterations):\n",
        "        for batch_start in range(0, m, batch_size):\n",
        "            batch_end = min(batch_start + batch_size, m)\n",
        "            X_batch = X[batch_start:batch_end]\n",
        "            y_batch = y[batch_start:batch_end]\n",
        "\n",
        "            dj_dw, dj_db = compute_gradient(X_batch, y_batch, w, b)\n",
        "\n",
        "            w -= alpha * dj_dw\n",
        "            b -= alpha * dj_db\n",
        "\n",
        "        if (iteration % (math.ceil(n_iterations/10)) == 0):\n",
        "            J = cost(X, y, w, b)\n",
        "            J_history.append(J)\n",
        "            print(f\"Iteration {iteration:4d}: Cost: {J}\")\n",
        "    return w, b, J_history"
      ],
      "metadata": {
        "id": "hTPgHWLMP3f6"
      },
      "execution_count": null,
      "outputs": []
    },
    {
      "cell_type": "code",
      "source": [
        "degree = 2\n",
        "X_poly = generate_polynomial_features(x_train, degree)\n",
        "print(X_poly.shape, y_train.shape)\n",
        "m_train, n_train = X_poly.shape\n",
        "w_init = np.zeros(n_train)\n",
        "b_init = 0.0\n",
        "alpha = 5.0e-7\n",
        "batch_size = 100\n",
        "n_iterations=1000\n",
        "w_final, b_final, J_history = gradient_descent(X_poly, y_train, w_init, b_init, alpha, batch_size,n_iterations)\n",
        "for i in range(10):\n",
        "    prediction = np.dot(X_poly[i], w_final) + b_final\n",
        "    print(f\"Prediction: {prediction:.2f}, Target: {y_train[i]:f}\")\n",
        "plt.plot(J_history)\n",
        "plt.xlabel(\"Iteration\")\n",
        "plt.ylabel(\"Cost\")\n",
        "plt.title(\"Cost over iterations\")\n",
        "plt.show()"
      ],
      "metadata": {
        "id": "dBXB8fq6P7Z6",
        "outputId": "3419daaa-375a-46e4-bc61-85e0873f1a11",
        "colab": {
          "base_uri": "https://localhost:8080/",
          "height": 837
        }
      },
      "execution_count": null,
      "outputs": [
        {
          "output_type": "stream",
          "name": "stdout",
          "text": [
            "(48000, 20) (48000,)\n",
            "Iteration    0: Cost: 5.707704713566058e-17\n",
            "Iteration  100: Cost: 5.505285791450526e-17\n",
            "Iteration  200: Cost: 5.318841468575768e-17\n",
            "Iteration  300: Cost: 5.146814005556551e-17\n",
            "Iteration  400: Cost: 4.9879094961549575e-17\n",
            "Iteration  500: Cost: 4.8410175587028784e-17\n",
            "Iteration  600: Cost: 4.705162109508953e-17\n",
            "Iteration  700: Cost: 4.5794704928582756e-17\n",
            "Iteration  800: Cost: 4.4631535100436986e-17\n",
            "Iteration  900: Cost: 4.355491972428257e-17\n",
            "Prediction: 0.00, Target: 0.000000\n",
            "Prediction: -0.00, Target: -0.000000\n",
            "Prediction: 0.00, Target: 0.000000\n",
            "Prediction: -0.00, Target: -0.000000\n",
            "Prediction: -0.00, Target: -0.000000\n",
            "Prediction: -0.00, Target: -0.000000\n",
            "Prediction: -0.00, Target: -0.000000\n",
            "Prediction: -0.00, Target: 0.000000\n",
            "Prediction: 0.00, Target: -0.000000\n",
            "Prediction: -0.00, Target: -0.000000\n"
          ]
        },
        {
          "output_type": "display_data",
          "data": {
            "text/plain": [
              "<Figure size 640x480 with 1 Axes>"
            ],
            "image/png": "[encoded data removed]"
          },
          "metadata": {}
        }
      ]
    },
    {
      "cell_type": "code",
      "source": [],
      "metadata": {
        "id": "s5Az8vkySzPf"
      },
      "execution_count": null,
      "outputs": []
    },
    {
      "cell_type": "markdown",
      "source": [
        "# Logistic Regression (binary classification)"
      ],
      "metadata": {
        "id": "iSPAzd3QdK2f"
      }
    },
    {
      "cell_type": "code",
      "source": [
        "from google.colab import files\n",
        "uploaded = files.upload()"
      ],
      "metadata": {
        "outputId": "3f3e5eca-ee76-4928-f345-9b8e152e2ce9",
        "colab": {
          "base_uri": "https://localhost:8080/",
          "height": 73
        },
        "id": "rQvmD-T-d6dd"
      },
      "execution_count": null,
      "outputs": [
        {
          "output_type": "display_data",
          "data": {
            "text/plain": [
              "<IPython.core.display.HTML object>"
            ],
            "text/html": [
              "\n",
              "     <input type=\"file\" id=\"files-9e3bf54d-68a3-419d-bb2d-817a3d9fa5a1\" name=\"files[]\" multiple disabled\n",
              "        style=\"border:none\" />\n",
              "     <output id=\"result-9e3bf54d-68a3-419d-bb2d-817a3d9fa5a1\">\n",
              "      Upload widget is only available when the cell has been executed in the\n",
              "      current browser session. Please rerun this cell to enable.\n",
              "      </output>\n",
              "      <script>// Copyright 2017 Google LLC\n",
              "//\n",
              "// Licensed under the Apache License, Version 2.0 (the \"License\");\n",
              "// you may not use this file except in compliance with the License.\n",
              "// You may obtain a copy of the License at\n",
              "//\n",
              "//      http://www.apache.org/licenses/LICENSE-2.0\n",
              "//\n",
              "// Unless required by applicable law or agreed to in writing, software\n",
              "// distributed under the License is distributed on an \"AS IS\" BASIS,\n",
              "// WITHOUT WARRANTIES OR CONDITIONS OF ANY KIND, either express or implied.\n",
              "// See the License for the specific language governing permissions and\n",
              "// limitations under the License.\n",
              "\n",
              "/**\n",
              " * @fileoverview Helpers for google.colab Python module.\n",
              " */\n",
              "(function(scope) {\n",
              "function span(text, styleAttributes = {}) {\n",
              "  const element = document.createElement('span');\n",
              "  element.textContent = text;\n",
              "  for (const key of Object.keys(styleAttributes)) {\n",
              "    element.style[key] = styleAttributes[key];\n",
              "  }\n",
              "  return element;\n",
              "}\n",
              "\n",
              "// Max number of bytes which will be uploaded at a time.\n",
              "const MAX_PAYLOAD_SIZE = 100 * 1024;\n",
              "\n",
              "function _uploadFiles(inputId, outputId) {\n",
              "  const steps = uploadFilesStep(inputId, outputId);\n",
              "  const outputElement = document.getElementById(outputId);\n",
              "  // Cache steps on the outputElement to make it available for the next call\n",
              "  // to uploadFilesContinue from Python.\n",
              "  outputElement.steps = steps;\n",
              "\n",
              "  return _uploadFilesContinue(outputId);\n",
              "}\n",
              "\n",
              "// This is roughly an async generator (not supported in the browser yet),\n",
              "// where there are multiple asynchronous steps and the Python side is going\n",
              "// to poll for completion of each step.\n",
              "// This uses a Promise to block the python side on completion of each step,\n",
              "// then passes the result of the previous step as the input to the next step.\n",
              "function _uploadFilesContinue(outputId) {\n",
              "  const outputElement = document.getElementById(outputId);\n",
              "  const steps = outputElement.steps;\n",
              "\n",
              "  const next = steps.next(outputElement.lastPromiseValue);\n",
              "  return Promise.resolve(next.value.promise).then((value) => {\n",
              "    // Cache the last promise value to make it available to the next\n",
              "    // step of the generator.\n",
              "    outputElement.lastPromiseValue = value;\n",
              "    return next.value.response;\n",
              "  });\n",
              "}\n",
              "\n",
              "/**\n",
              " * Generator function which is called between each async step of the upload\n",
              " * process.\n",
              " * @param {string} inputId Element ID of the input file picker element.\n",
              " * @param {string} outputId Element ID of the output display.\n",
              " * @return {!Iterable<!Object>} Iterable of next steps.\n",
              " */\n",
              "function* uploadFilesStep(inputId, outputId) {\n",
              "  const inputElement = document.getElementById(inputId);\n",
              "  inputElement.disabled = false;\n",
              "\n",
              "  const outputElement = document.getElementById(outputId);\n",
              "  outputElement.innerHTML = '';\n",
              "\n",
              "  const pickedPromise = new Promise((resolve) => {\n",
              "    inputElement.addEventListener('change', (e) => {\n",
              "      resolve(e.target.files);\n",
              "    });\n",
              "  });\n",
              "\n",
              "  const cancel = document.createElement('button');\n",
              "  inputElement.parentElement.appendChild(cancel);\n",
              "  cancel.textContent = 'Cancel upload';\n",
              "  const cancelPromise = new Promise((resolve) => {\n",
              "    cancel.onclick = () => {\n",
              "      resolve(null);\n",
              "    };\n",
              "  });\n",
              "\n",
              "  // Wait for the user to pick the files.\n",
              "  const files = yield {\n",
              "    promise: Promise.race([pickedPromise, cancelPromise]),\n",
              "    response: {\n",
              "      action: 'starting',\n",
              "    }\n",
              "  };\n",
              "\n",
              "  cancel.remove();\n",
              "\n",
              "  // Disable the input element since further picks are not allowed.\n",
              "  inputElement.disabled = true;\n",
              "\n",
              "  if (!files) {\n",
              "    return {\n",
              "      response: {\n",
              "        action: 'complete',\n",
              "      }\n",
              "    };\n",
              "  }\n",
              "\n",
              "  for (const file of files) {\n",
              "    const li = document.createElement('li');\n",
              "    li.append(span(file.name, {fontWeight: 'bold'}));\n",
              "    li.append(span(\n",
              "        `(${file.type || 'n/a'}) - ${file.size} bytes, ` +\n",
              "        `last modified: ${\n",
              "            file.lastModifiedDate ? file.lastModifiedDate.toLocaleDateString() :\n",
              "                                    'n/a'} - `));\n",
              "    const percent = span('0% done');\n",
              "    li.appendChild(percent);\n",
              "\n",
              "    outputElement.appendChild(li);\n",
              "\n",
              "    const fileDataPromise = new Promise((resolve) => {\n",
              "      const reader = new FileReader();\n",
              "      reader.onload = (e) => {\n",
              "        resolve(e.target.result);\n",
              "      };\n",
              "      reader.readAsArrayBuffer(file);\n",
              "    });\n",
              "    // Wait for the data to be ready.\n",
              "    let fileData = yield {\n",
              "      promise: fileDataPromise,\n",
              "      response: {\n",
              "        action: 'continue',\n",
              "      }\n",
              "    };\n",
              "\n",
              "    // Use a chunked sending to avoid message size limits. See b/62115660.\n",
              "    let position = 0;\n",
              "    do {\n",
              "      const length = Math.min(fileData.byteLength - position, MAX_PAYLOAD_SIZE);\n",
              "      const chunk = new Uint8Array(fileData, position, length);\n",
              "      position += length;\n",
              "\n",
              "      const base64 = btoa(String.fromCharCode.apply(null, chunk));\n",
              "      yield {\n",
              "        response: {\n",
              "          action: 'append',\n",
              "          file: file.name,\n",
              "          data: base64,\n",
              "        },\n",
              "      };\n",
              "\n",
              "      let percentDone = fileData.byteLength === 0 ?\n",
              "          100 :\n",
              "          Math.round((position / fileData.byteLength) * 100);\n",
              "      percent.textContent = `${percentDone}% done`;\n",
              "\n",
              "    } while (position < fileData.byteLength);\n",
              "  }\n",
              "\n",
              "  // All done.\n",
              "  yield {\n",
              "    response: {\n",
              "      action: 'complete',\n",
              "    }\n",
              "  };\n",
              "}\n",
              "\n",
              "scope.google = scope.google || {};\n",
              "scope.google.colab = scope.google.colab || {};\n",
              "scope.google.colab._files = {\n",
              "  _uploadFiles,\n",
              "  _uploadFilesContinue,\n",
              "};\n",
              "})(self);\n",
              "</script> "
            ]
          },
          "metadata": {}
        },
        {
          "output_type": "stream",
          "name": "stdout",
          "text": [
            "Saving binary_classification_train.csv to binary_classification_train.csv\n"
          ]
        }
      ]
    },
    {
      "cell_type": "code",
      "source": [
        "import numpy as np\n",
        "import pandas as pd\n",
        "import matplotlib.pyplot as plt"
      ],
      "metadata": {
        "id": "CLZZ2ZuDbP-f"
      },
      "execution_count": null,
      "outputs": []
    },
    {
      "cell_type": "code",
      "source": [
        "file=pd.read_csv('binary_classification_train.csv')\n",
        "print(file.shape)"
      ],
      "metadata": {
        "colab": {
          "base_uri": "https://localhost:8080/"
        },
        "id": "dEqUV8wcbzF3",
        "outputId": "08b3affe-423a-4cd3-ff0e-37933f967703"
      },
      "execution_count": null,
      "outputs": [
        {
          "output_type": "stream",
          "name": "stdout",
          "text": [
            "(48000, 22)\n"
          ]
        }
      ]
    },
    {
      "cell_type": "code",
      "source": [
        "n_sets, n_features=file.shape\n",
        "n_features=n_features-1\n",
        "x_train=file.iloc[:,1:n_features]\n",
        "x_train=x_train.values\n",
        "y_train=file.iloc[:,n_features]\n",
        "y_train=y_train.values\n",
        "print(x_train.shape)\n",
        "print(y_train.shape)"
      ],
      "metadata": {
        "colab": {
          "base_uri": "https://localhost:8080/"
        },
        "id": "CdOpTOfYcL0P",
        "outputId": "042aba3b-b2b3-4aa9-bc8e-1f083ef3967d"
      },
      "execution_count": null,
      "outputs": [
        {
          "output_type": "stream",
          "name": "stdout",
          "text": [
            "(48000, 20)\n",
            "(48000,)\n"
          ]
        }
      ]
    },
    {
      "cell_type": "code",
      "source": [
        "def train_test_split(X,y,test_size=0.2,random_state=None):\n",
        "  if random_state is not None:\n",
        "    np.random.seed(random_state)\n",
        "  indices=np.arange(len(X))\n",
        "  np.random.shuffle(indices)\n",
        "  split_idx=int(len(X)*(1-test_size))\n",
        "  train_indices=indices[:split_idx]\n",
        "  test_indices=indices[split_idx:]\n",
        "  X_train, X_test=X[train_indices],X[test_indices]\n",
        "  y_train, y_test=y[train_indices],y[test_indices]\n",
        "  return X_train,X_test,y_train, y_test"
      ],
      "metadata": {
        "id": "rDJkBBGuiW5O"
      },
      "execution_count": null,
      "outputs": []
    },
    {
      "cell_type": "code",
      "source": [
        "def sigmoid(z):\n",
        "  sig=1/(1+np.exp(-z))\n",
        "  return sig"
      ],
      "metadata": {
        "id": "xsxmfCZzc0_x"
      },
      "execution_count": null,
      "outputs": []
    },
    {
      "cell_type": "code",
      "source": [
        "def cost(X,y,w,b):\n",
        "  m,_=X.shape\n",
        "  z=np.dot(X,w)+b\n",
        "  f_wb=sigmoid(z)\n",
        "  cost=(-1/m) * np.sum(y * np.log(f_wb) + (1-y) * np.log(1-f_wb))\n",
        "  return cost"
      ],
      "metadata": {
        "id": "0m5CXn8EdIuK"
      },
      "execution_count": null,
      "outputs": []
    },
    {
      "cell_type": "code",
      "source": [
        "def compute_gradient(X,y,w,b):\n",
        "  m,n=X.shape\n",
        "  dj_dw=np.zeros(n)\n",
        "  dj_db=0.\n",
        "  cosht=sigmoid(np.dot(X,w)+b)-y\n",
        "  dj_dw=np.dot(X.T,cosht)/m\n",
        "  dj_db=np.sum(cosht)/m\n",
        "  return dj_dw, dj_db"
      ],
      "metadata": {
        "id": "kxutd-g3gHre"
      },
      "execution_count": null,
      "outputs": []
    },
    {
      "cell_type": "code",
      "source": [
        "def gradient_descent(X, y, w_init, b_init, alpha, batch_size, n_iterations):\n",
        "    w = w_init.copy()\n",
        "    b = b_init\n",
        "    m = X.shape[0]\n",
        "    J_history = []\n",
        "\n",
        "    for iteration in range(n_iterations):\n",
        "        for batch_start in range(0, m, batch_size):\n",
        "            batch_end = min(batch_start + batch_size, m)\n",
        "            X_batch = X[batch_start:batch_end]\n",
        "            y_batch = y[batch_start:batch_end]\n",
        "\n",
        "            dj_dw, dj_db = compute_gradient(X_batch, y_batch, w, b)\n",
        "            w -= alpha * dj_dw\n",
        "            b -= alpha * dj_db\n",
        "\n",
        "        if iteration % 100 == 0:\n",
        "            J = cost(X, y, w, b)\n",
        "            J_history.append(J)\n",
        "            print(f\"Iteration {iteration:4d}: Cost {J:8f}\")\n",
        "    print(f\"Final cost: {J_history[-1]}\")\n",
        "\n",
        "    return w, b, J_history"
      ],
      "metadata": {
        "id": "JjCnrIXSdgvZ"
      },
      "execution_count": null,
      "outputs": []
    },
    {
      "cell_type": "code",
      "source": [
        "X_train,X_test, y_train, y_test=train_test_split(x_train,y_train,test_size=0.2,random_state=42)\n",
        "m,n=X_train.shape\n",
        "w_initial=np.zeros(n)\n",
        "b_initial=0.\n",
        "alpha=5e-07\n",
        "batch_size=100\n",
        "n_iterations=1000\n",
        "w_final,b_final,J_history=gradient_descent(X_train,y_train,w_initial,b_initial,alpha, batch_size,n_iterations)\n",
        "plt.plot(range(len(J_history)),J_history)\n",
        "plt.xlabel(\"Iteration (x100)\")\n",
        "plt.ylabel(\"Cost\")\n",
        "plt.title(\"Cost Function History\")\n",
        "plt.show()\n",
        "y_pred_test=sigmoid(np.dot(X_test,w_final)+b_final)>=0.5\n",
        "accuracy=np.mean(y_pred_test == y_test)*100\n",
        "print(f\"Test accuracy: {accuracy:.2f}\")\n",
        "if X_train.shape[1]==2:\n",
        "  plt.scatter(X_test[:,0],X_test[:,1],c=y_test,cmap='viridis',alpha=5e-07)\n",
        "  x_boundary=np.linspace(X_test[:,0].min(),X_test[:,0].max(),100)\n",
        "  y_boundary=-(w_final[0]*x_boundary+b_final)/w_final[1]\n",
        "  plt.plot(x_boundary,y_boundary,color='red',linewidth=2)\n",
        "  plt.xlabel(\"Feature 1\")\n",
        "  plt.ylabel(\"Feature 2\")\n",
        "  plt.title(\"Decision Boundary\")\n",
        "  plt.show()"
      ],
      "metadata": {
        "colab": {
          "base_uri": "https://localhost:8080/",
          "height": 680
        },
        "id": "aBKlgPCdmG5Q",
        "outputId": "999c8c11-fc5b-4a66-e753-d96dd88d03a2"
      },
      "execution_count": null,
      "outputs": [
        {
          "output_type": "stream",
          "name": "stdout",
          "text": [
            "Iteration    0: Cost 0.429431\n",
            "Iteration  100: Cost 0.245109\n",
            "Iteration  200: Cost 0.244549\n",
            "Iteration  300: Cost 0.244366\n",
            "Iteration  400: Cost 0.244288\n",
            "Iteration  500: Cost 0.244251\n",
            "Iteration  600: Cost 0.244232\n",
            "Iteration  700: Cost 0.244221\n",
            "Iteration  800: Cost 0.244213\n",
            "Iteration  900: Cost 0.244207\n",
            "Final cost: 0.24420694450650118\n"
          ]
        },
        {
          "output_type": "display_data",
          "data": {
            "text/plain": [
              "<Figure size 640x480 with 1 Axes>"
            ],
            "image/png": "[encoded data removed]"
          },
          "metadata": {}
        },
        {
          "output_type": "stream",
          "name": "stdout",
          "text": [
            "Test accuracy: 93.05\n"
          ]
        }
      ]
    },
    {
      "cell_type": "code",
      "source": [
        "\n",
        "y_pred_probs = sigmoid(np.dot(X_test, w_final) + b_final)>0.5\n",
        "\n",
        "plt.figure(figsize=(8, 6))\n",
        "plt.scatter(range(len(y_test)), y_test, color=\"blue\", alpha=0.7, label=\"Actual Values\")\n",
        "plt.scatter(range(len(y_test)), y_pred_probs, color=\"red\", alpha=0.5, label=\"Predicted Probabilities\")\n",
        "plt.xlabel(\"Sample Index\")\n",
        "plt.ylabel(\"Value\")\n",
        "plt.title(\"Actual vs Predicted (y) Values\")\n",
        "plt.legend()\n",
        "plt.grid(True)\n",
        "plt.show()\n"
      ],
      "metadata": {
        "colab": {
          "base_uri": "https://localhost:8080/",
          "height": 564
        },
        "id": "_TZG9BEOn1vK",
        "outputId": "66ef1626-0cac-49d6-cad9-094db9f3ecfe"
      },
      "execution_count": null,
      "outputs": [
        {
          "output_type": "display_data",
          "data": {
            "text/plain": [
              "<Figure size 800x600 with 1 Axes>"
            ],
            "image/png": "[encoded data removed]"
          },
          "metadata": {}
        }
      ]
    },
    {
      "cell_type": "code",
      "source": [
        "# Compute predicted probabilities for the test set\n",
        "y_pred_probs = sigmoid(np.dot(X_test, w_final) + b_final)>=0.5\n",
        "\n",
        "# Plot the first feature vs predicted y values\n",
        "plt.figure(figsize=(8, 6))\n",
        "plt.scatter(X_test[:, 0], y_test, color=\"blue\", alpha=0.7, label=\"Actual Values\")\n",
        "plt.scatter(X_test[:, 0], y_pred_probs, color=\"red\", alpha=0.5, label=\"Predicted Probabilities\")\n",
        "plt.xlabel(\"First Feature (X[:, 0])\")\n",
        "plt.ylabel(\"Predicted (y) / Actual (y)\")\n",
        "plt.title(\"First Feature vs Predicted (y) Values\")\n",
        "plt.legend()\n",
        "plt.grid(True)\n",
        "plt.show()\n"
      ],
      "metadata": {
        "colab": {
          "base_uri": "https://localhost:8080/",
          "height": 564
        },
        "id": "Tve5HjbUsmsF",
        "outputId": "79128260-b67a-443d-d25f-d103a4cafe47"
      },
      "execution_count": null,
      "outputs": [
        {
          "output_type": "display_data",
          "data": {
            "text/plain": [
              "<Figure size 800x600 with 1 Axes>"
            ],
            "image/png": "[encoded data removed]"
          },
          "metadata": {}
        }
      ]
    },
    {
      "cell_type": "code",
      "source": [],
      "metadata": {
        "id": "Ox5lqyB7_5mI"
      },
      "execution_count": null,
      "outputs": []
    }
  ],
  "metadata": {
    "colab": {
      "toc_visible": true,
      "provenance": [],
      "collapsed_sections": [
        "ZKSiKKcprapT",
        "V7VXP8K_qFyE"
      ],
      "include_colab_link": true
    },
    "kernelspec": {
      "display_name": "Python 3",
      "name": "python3"
    }
  },
  "nbformat": 4,
  "nbformat_minor": 0
}